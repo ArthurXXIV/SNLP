{
 "cells": [
  {
   "cell_type": "code",
   "execution_count": 1,
   "metadata": {
    "_cell_guid": "b1076dfc-b9ad-4769-8c92-a6c4dae69d19",
    "_uuid": "8f2839f25d086af736a60e9eeb907d3b93b6e0e5",
    "execution": {
     "iopub.execute_input": "2024-08-31T03:26:09.742158Z",
     "iopub.status.busy": "2024-08-31T03:26:09.741406Z",
     "iopub.status.idle": "2024-08-31T03:26:14.844732Z",
     "shell.execute_reply": "2024-08-31T03:26:14.843778Z",
     "shell.execute_reply.started": "2024-08-31T03:26:09.742119Z"
    }
   },
   "outputs": [],
   "source": [
    "import numpy as np\n",
    "import pandas as pd\n",
    "import transformers\n",
    "import json\n",
    "import warnings\n",
    "from datasets import Dataset\n",
    "warnings.filterwarnings(\"ignore\")"
   ]
  },
  {
   "cell_type": "code",
   "execution_count": 2,
   "metadata": {
    "execution": {
     "iopub.execute_input": "2024-08-31T03:26:14.846987Z",
     "iopub.status.busy": "2024-08-31T03:26:14.846504Z",
     "iopub.status.idle": "2024-08-31T03:26:16.186911Z",
     "shell.execute_reply": "2024-08-31T03:26:16.186078Z",
     "shell.execute_reply.started": "2024-08-31T03:26:14.846950Z"
    }
   },
   "outputs": [],
   "source": [
    "with open('/kaggle/input/stanford-question-answering-dataset/train-v1.1.json') as train_file:\n",
    "    train_data = json.load(train_file)\n",
    "\n",
    "with open('/kaggle/input/stanford-question-answering-dataset/dev-v1.1.json') as dev_file:\n",
    "    dev_data = json.load(dev_file)"
   ]
  },
  {
   "cell_type": "code",
   "execution_count": 3,
   "metadata": {
    "execution": {
     "iopub.execute_input": "2024-08-31T03:26:16.188384Z",
     "iopub.status.busy": "2024-08-31T03:26:16.188061Z",
     "iopub.status.idle": "2024-08-31T03:26:16.195413Z",
     "shell.execute_reply": "2024-08-31T03:26:16.194523Z",
     "shell.execute_reply.started": "2024-08-31T03:26:16.188350Z"
    }
   },
   "outputs": [],
   "source": [
    "def prepare_dataset(data):\n",
    "    contexts = []\n",
    "    questions = []\n",
    "    answers = []\n",
    "\n",
    "    for article in data['data']:\n",
    "        for paragraph in article['paragraphs']:\n",
    "            context = paragraph['context']\n",
    "            for qa in paragraph['qas']:\n",
    "                question = qa['question']\n",
    "                answer = qa['answers'][0]  # Take the first answer\n",
    "                answer['text'] = answer['text']\n",
    "                answer['answer_start'] = answer['answer_start']\n",
    "\n",
    "                contexts.append(context)\n",
    "                questions.append(question)\n",
    "                answers.append(answer)\n",
    "    \n",
    "    return Dataset.from_dict({'context': contexts, 'question': questions, 'answers': answers})"
   ]
  },
  {
   "cell_type": "code",
   "execution_count": 4,
   "metadata": {
    "execution": {
     "iopub.execute_input": "2024-08-31T03:26:16.198385Z",
     "iopub.status.busy": "2024-08-31T03:26:16.198013Z",
     "iopub.status.idle": "2024-08-31T03:26:17.209581Z",
     "shell.execute_reply": "2024-08-31T03:26:17.208719Z",
     "shell.execute_reply.started": "2024-08-31T03:26:16.198343Z"
    }
   },
   "outputs": [],
   "source": [
    "train_dataset = prepare_dataset(train_data)\n",
    "dev_dataset = prepare_dataset(dev_data)"
   ]
  },
  {
   "cell_type": "code",
   "execution_count": 5,
   "metadata": {
    "execution": {
     "iopub.execute_input": "2024-08-31T03:26:17.211377Z",
     "iopub.status.busy": "2024-08-31T03:26:17.210798Z",
     "iopub.status.idle": "2024-08-31T03:26:20.587222Z",
     "shell.execute_reply": "2024-08-31T03:26:20.586463Z",
     "shell.execute_reply.started": "2024-08-31T03:26:17.211329Z"
    }
   },
   "outputs": [
    {
     "data": {
      "application/vnd.jupyter.widget-view+json": {
       "model_id": "bb20fdc84af84c8b9497eccb2b6821b4",
       "version_major": 2,
       "version_minor": 0
      },
      "text/plain": [
       "tokenizer_config.json:   0%|          | 0.00/48.0 [00:00<?, ?B/s]"
      ]
     },
     "metadata": {},
     "output_type": "display_data"
    },
    {
     "data": {
      "application/vnd.jupyter.widget-view+json": {
       "model_id": "d62a980ee4ec43debc3a0d467d383c99",
       "version_major": 2,
       "version_minor": 0
      },
      "text/plain": [
       "config.json:   0%|          | 0.00/483 [00:00<?, ?B/s]"
      ]
     },
     "metadata": {},
     "output_type": "display_data"
    },
    {
     "data": {
      "application/vnd.jupyter.widget-view+json": {
       "model_id": "7e458143489443638a689e56125c6af1",
       "version_major": 2,
       "version_minor": 0
      },
      "text/plain": [
       "vocab.txt:   0%|          | 0.00/232k [00:00<?, ?B/s]"
      ]
     },
     "metadata": {},
     "output_type": "display_data"
    },
    {
     "data": {
      "application/vnd.jupyter.widget-view+json": {
       "model_id": "8c0e184149fd4564a5305c21a864a3ae",
       "version_major": 2,
       "version_minor": 0
      },
      "text/plain": [
       "tokenizer.json:   0%|          | 0.00/466k [00:00<?, ?B/s]"
      ]
     },
     "metadata": {},
     "output_type": "display_data"
    }
   ],
   "source": [
    "from transformers import AutoTokenizer\n",
    "\n",
    "model_name='distilbert-base-uncased'\n",
    "tokenizer = AutoTokenizer.from_pretrained(model_name)"
   ]
  },
  {
   "cell_type": "code",
   "execution_count": 6,
   "metadata": {
    "execution": {
     "iopub.execute_input": "2024-08-31T03:26:20.588641Z",
     "iopub.status.busy": "2024-08-31T03:26:20.588323Z",
     "iopub.status.idle": "2024-08-31T03:26:20.595553Z",
     "shell.execute_reply": "2024-08-31T03:26:20.594623Z",
     "shell.execute_reply.started": "2024-08-31T03:26:20.588606Z"
    }
   },
   "outputs": [],
   "source": [
    "def preprocess_function(examples):\n",
    "    questions = [q.strip() for q in examples['question']]\n",
    "    inputs = tokenizer(\n",
    "        questions,\n",
    "        examples['context'],\n",
    "        max_length=384,\n",
    "        truncation=True,\n",
    "        padding=\"max_length\",\n",
    "        return_offsets_mapping=True,  # Now supported by the fast tokenizer\n",
    "        return_tensors=\"pt\"\n",
    "    )\n",
    "    \n",
    "    start_positions = []\n",
    "    end_positions = []\n",
    "    \n",
    "    for i, answer in enumerate(examples['answers']):\n",
    "        start_positions.append(answer['answer_start'])\n",
    "        end_positions.append(answer['answer_start'] + len(answer['text']))\n",
    "    \n",
    "    inputs.update({\n",
    "        \"start_positions\": start_positions,\n",
    "        \"end_positions\": end_positions,\n",
    "    })\n",
    "    \n",
    "    return inputs"
   ]
  },
  {
   "cell_type": "code",
   "execution_count": 7,
   "metadata": {
    "execution": {
     "iopub.execute_input": "2024-08-31T03:26:20.597412Z",
     "iopub.status.busy": "2024-08-31T03:26:20.596808Z",
     "iopub.status.idle": "2024-08-31T03:31:10.655590Z",
     "shell.execute_reply": "2024-08-31T03:31:10.654638Z",
     "shell.execute_reply.started": "2024-08-31T03:26:20.597368Z"
    }
   },
   "outputs": [
    {
     "data": {
      "application/vnd.jupyter.widget-view+json": {
       "model_id": "de1d3657bac54bff8da21b91d8a1a645",
       "version_major": 2,
       "version_minor": 0
      },
      "text/plain": [
       "Map:   0%|          | 0/87599 [00:00<?, ? examples/s]"
      ]
     },
     "metadata": {},
     "output_type": "display_data"
    },
    {
     "data": {
      "application/vnd.jupyter.widget-view+json": {
       "model_id": "c2319c478a7d463c9e5f2601ba9b07a5",
       "version_major": 2,
       "version_minor": 0
      },
      "text/plain": [
       "Map:   0%|          | 0/10570 [00:00<?, ? examples/s]"
      ]
     },
     "metadata": {},
     "output_type": "display_data"
    }
   ],
   "source": [
    "tokenized_train_dataset = train_dataset.map(preprocess_function, batched=True)\n",
    "tokenized_dev_dataset = dev_dataset.map(preprocess_function, batched=True)"
   ]
  },
  {
   "cell_type": "code",
   "execution_count": 8,
   "metadata": {
    "execution": {
     "iopub.execute_input": "2024-08-31T03:31:10.657035Z",
     "iopub.status.busy": "2024-08-31T03:31:10.656693Z",
     "iopub.status.idle": "2024-08-31T03:31:39.334137Z",
     "shell.execute_reply": "2024-08-31T03:31:39.333210Z",
     "shell.execute_reply.started": "2024-08-31T03:31:10.657000Z"
    }
   },
   "outputs": [
    {
     "data": {
      "application/vnd.jupyter.widget-view+json": {
       "model_id": "01fc311a91c94e8a8c2cac443318194d",
       "version_major": 2,
       "version_minor": 0
      },
      "text/plain": [
       "model.safetensors:   0%|          | 0.00/268M [00:00<?, ?B/s]"
      ]
     },
     "metadata": {},
     "output_type": "display_data"
    },
    {
     "name": "stderr",
     "output_type": "stream",
     "text": [
      "Some weights of DistilBertForQuestionAnswering were not initialized from the model checkpoint at distilbert-base-uncased and are newly initialized: ['qa_outputs.bias', 'qa_outputs.weight']\n",
      "You should probably TRAIN this model on a down-stream task to be able to use it for predictions and inference.\n"
     ]
    }
   ],
   "source": [
    "from transformers import AutoModelForQuestionAnswering, TrainingArguments, Trainer\n",
    "\n",
    "model = AutoModelForQuestionAnswering.from_pretrained(model_name)"
   ]
  },
  {
   "cell_type": "code",
   "execution_count": 9,
   "metadata": {
    "collapsed": true,
    "execution": {
     "iopub.execute_input": "2024-08-31T03:31:39.335942Z",
     "iopub.status.busy": "2024-08-31T03:31:39.335368Z",
     "iopub.status.idle": "2024-08-31T04:35:50.767953Z",
     "shell.execute_reply": "2024-08-31T04:35:50.767016Z",
     "shell.execute_reply.started": "2024-08-31T03:31:39.335906Z"
    }
   },
   "outputs": [
    {
     "name": "stderr",
     "output_type": "stream",
     "text": [
      "\u001b[34m\u001b[1mwandb\u001b[0m: \u001b[33mWARNING\u001b[0m The `run_name` is currently set to the same value as `TrainingArguments.output_dir`. If this was not intended, please specify a different run name by setting the `TrainingArguments.run_name` parameter.\n",
      "\u001b[34m\u001b[1mwandb\u001b[0m: Logging into wandb.ai. (Learn how to deploy a W&B server locally: https://wandb.me/wandb-server)\n",
      "\u001b[34m\u001b[1mwandb\u001b[0m: You can find your API key in your browser here: https://wandb.ai/authorize\n",
      "\u001b[34m\u001b[1mwandb\u001b[0m: Paste an API key from your profile and hit enter, or press ctrl+c to quit:"
     ]
    },
    {
     "name": "stdin",
     "output_type": "stream",
     "text": [
      "  ········································\n"
     ]
    },
    {
     "name": "stderr",
     "output_type": "stream",
     "text": [
      "\u001b[34m\u001b[1mwandb\u001b[0m: Appending key for api.wandb.ai to your netrc file: /root/.netrc\n"
     ]
    },
    {
     "data": {
      "text/html": [
       "wandb version 0.17.8 is available!  To upgrade, please run:\n",
       " $ pip install wandb --upgrade"
      ],
      "text/plain": [
       "<IPython.core.display.HTML object>"
      ]
     },
     "metadata": {},
     "output_type": "display_data"
    },
    {
     "data": {
      "text/html": [
       "Tracking run with wandb version 0.17.7"
      ],
      "text/plain": [
       "<IPython.core.display.HTML object>"
      ]
     },
     "metadata": {},
     "output_type": "display_data"
    },
    {
     "data": {
      "text/html": [
       "Run data is saved locally in <code>/kaggle/working/wandb/run-20240831_033312-aiijrigr</code>"
      ],
      "text/plain": [
       "<IPython.core.display.HTML object>"
      ]
     },
     "metadata": {},
     "output_type": "display_data"
    },
    {
     "data": {
      "text/html": [
       "Syncing run <strong><a href='https://wandb.ai/aditya0911das/huggingface/runs/aiijrigr' target=\"_blank\">./results</a></strong> to <a href='https://wandb.ai/aditya0911das/huggingface' target=\"_blank\">Weights & Biases</a> (<a href='https://wandb.me/run' target=\"_blank\">docs</a>)<br/>"
      ],
      "text/plain": [
       "<IPython.core.display.HTML object>"
      ]
     },
     "metadata": {},
     "output_type": "display_data"
    },
    {
     "data": {
      "text/html": [
       " View project at <a href='https://wandb.ai/aditya0911das/huggingface' target=\"_blank\">https://wandb.ai/aditya0911das/huggingface</a>"
      ],
      "text/plain": [
       "<IPython.core.display.HTML object>"
      ]
     },
     "metadata": {},
     "output_type": "display_data"
    },
    {
     "data": {
      "text/html": [
       " View run at <a href='https://wandb.ai/aditya0911das/huggingface/runs/aiijrigr' target=\"_blank\">https://wandb.ai/aditya0911das/huggingface/runs/aiijrigr</a>"
      ],
      "text/plain": [
       "<IPython.core.display.HTML object>"
      ]
     },
     "metadata": {},
     "output_type": "display_data"
    },
    {
     "data": {
      "text/html": [
       "\n",
       "    <div>\n",
       "      \n",
       "      <progress value='10950' max='10950' style='width:300px; height:20px; vertical-align: middle;'></progress>\n",
       "      [10950/10950 1:02:19, Epoch 2/2]\n",
       "    </div>\n",
       "    <table border=\"1\" class=\"dataframe\">\n",
       "  <thead>\n",
       " <tr style=\"text-align: left;\">\n",
       "      <th>Epoch</th>\n",
       "      <th>Training Loss</th>\n",
       "      <th>Validation Loss</th>\n",
       "    </tr>\n",
       "  </thead>\n",
       "  <tbody>\n",
       "    <tr>\n",
       "      <td>1</td>\n",
       "      <td>5.194200</td>\n",
       "      <td>5.069376</td>\n",
       "    </tr>\n",
       "    <tr>\n",
       "      <td>2</td>\n",
       "      <td>4.843800</td>\n",
       "      <td>4.813616</td>\n",
       "    </tr>\n",
       "  </tbody>\n",
       "</table><p>"
      ],
      "text/plain": [
       "<IPython.core.display.HTML object>"
      ]
     },
     "metadata": {},
     "output_type": "display_data"
    },
    {
     "data": {
      "text/plain": [
       "TrainOutput(global_step=10950, training_loss=5.1704162207477165, metrics={'train_runtime': 3848.8393, 'train_samples_per_second': 45.52, 'train_steps_per_second': 2.845, 'total_flos': 1.7167621364554752e+16, 'train_loss': 5.1704162207477165, 'epoch': 2.0})"
      ]
     },
     "execution_count": 9,
     "metadata": {},
     "output_type": "execute_result"
    }
   ],
   "source": [
    "training_args = TrainingArguments(\n",
    "    output_dir=\"./results\",\n",
    "    evaluation_strategy=\"epoch\",\n",
    "    learning_rate=2e-5,\n",
    "    per_device_train_batch_size=16,\n",
    "    per_device_eval_batch_size=16,\n",
    "    num_train_epochs=2,\n",
    "    weight_decay=0.01,\n",
    ")\n",
    "\n",
    "trainer = Trainer(\n",
    "    model=model,\n",
    "    args=training_args,\n",
    "    train_dataset=tokenized_train_dataset,\n",
    "    eval_dataset=tokenized_dev_dataset\n",
    ")\n",
    "\n",
    "trainer.train()"
   ]
  },
  {
   "cell_type": "code",
   "execution_count": 13,
   "metadata": {
    "execution": {
     "iopub.execute_input": "2024-08-31T04:36:43.068038Z",
     "iopub.status.busy": "2024-08-31T04:36:43.067281Z",
     "iopub.status.idle": "2024-08-31T04:36:43.074625Z",
     "shell.execute_reply": "2024-08-31T04:36:43.073481Z",
     "shell.execute_reply.started": "2024-08-31T04:36:43.067998Z"
    }
   },
   "outputs": [],
   "source": [
    "from transformers import pipeline\n",
    "qa_pipeline = pipeline(\"question-answering\", model=model, tokenizer=tokenizer,device=0)"
   ]
  },
  {
   "cell_type": "code",
   "execution_count": 49,
   "metadata": {
    "execution": {
     "iopub.execute_input": "2024-08-31T05:16:18.970330Z",
     "iopub.status.busy": "2024-08-31T05:16:18.969444Z",
     "iopub.status.idle": "2024-08-31T05:16:18.988101Z",
     "shell.execute_reply": "2024-08-31T05:16:18.987041Z",
     "shell.execute_reply.started": "2024-08-31T05:16:18.970287Z"
    }
   },
   "outputs": [],
   "source": [
    "context=\"I am Aditya Das. I study at NMIMS\"\n",
    "question='Where does Aditya study ?'\n",
    "\n",
    "result = qa_pipeline({\n",
    "    'context': context,\n",
    "    'question': question\n",
    "})\n"
   ]
  },
  {
   "cell_type": "code",
   "execution_count": 50,
   "metadata": {
    "execution": {
     "iopub.execute_input": "2024-08-31T05:16:19.286595Z",
     "iopub.status.busy": "2024-08-31T05:16:19.285863Z",
     "iopub.status.idle": "2024-08-31T05:16:19.293581Z",
     "shell.execute_reply": "2024-08-31T05:16:19.292563Z",
     "shell.execute_reply.started": "2024-08-31T05:16:19.286553Z"
    }
   },
   "outputs": [
    {
     "name": "stdout",
     "output_type": "stream",
     "text": [
      "Prediction: {'score': 0.009663555771112442, 'start': 28, 'end': 33, 'answer': 'NMIMS'}\n"
     ]
    }
   ],
   "source": [
    "print(\"Prediction:\", result)"
   ]
  },
  {
   "cell_type": "code",
   "execution_count": 51,
   "metadata": {
    "execution": {
     "iopub.execute_input": "2024-08-31T05:16:30.437137Z",
     "iopub.status.busy": "2024-08-31T05:16:30.436292Z",
     "iopub.status.idle": "2024-08-31T05:16:30.442334Z",
     "shell.execute_reply": "2024-08-31T05:16:30.441325Z",
     "shell.execute_reply.started": "2024-08-31T05:16:30.437100Z"
    }
   },
   "outputs": [],
   "source": [
    "predicted_start = result['start']\n",
    "predicted_end = result['end']\n",
    "\n",
    "\n",
    "true_answer = \"NMIMS\"\n",
    "true_start = context.find(true_answer)\n",
    "true_end = true_start + len(true_answer)\n"
   ]
  },
  {
   "cell_type": "code",
   "execution_count": 52,
   "metadata": {
    "execution": {
     "iopub.execute_input": "2024-08-31T05:16:31.223150Z",
     "iopub.status.busy": "2024-08-31T05:16:31.222755Z",
     "iopub.status.idle": "2024-08-31T05:16:31.230783Z",
     "shell.execute_reply": "2024-08-31T05:16:31.229610Z",
     "shell.execute_reply.started": "2024-08-31T05:16:31.223112Z"
    }
   },
   "outputs": [],
   "source": [
    "def compute_iou(pred, ref):\n",
    "    pred_tokens = set(range(pred['start_positions'], pred['end_positions']))\n",
    "    ref_tokens = set(range(ref['start_positions'], ref['end_positions']))\n",
    "    intersection = len(pred_tokens & ref_tokens)\n",
    "    union = len(pred_tokens | ref_tokens)\n",
    "    return intersection / union if union != 0 else 0"
   ]
  },
  {
   "cell_type": "code",
   "execution_count": 53,
   "metadata": {
    "execution": {
     "iopub.execute_input": "2024-08-31T05:16:31.787096Z",
     "iopub.status.busy": "2024-08-31T05:16:31.786733Z",
     "iopub.status.idle": "2024-08-31T05:16:31.793791Z",
     "shell.execute_reply": "2024-08-31T05:16:31.792616Z",
     "shell.execute_reply.started": "2024-08-31T05:16:31.787062Z"
    }
   },
   "outputs": [],
   "source": [
    "pred = {'start_positions': predicted_start, 'end_positions': predicted_end}\n",
    "ref = {'start_positions': true_start, 'end_positions': true_end}\n",
    "\n",
    "# Compute token-level IoU\n",
    "iou_score = compute_iou(pred, ref)"
   ]
  },
  {
   "cell_type": "code",
   "execution_count": 54,
   "metadata": {
    "execution": {
     "iopub.execute_input": "2024-08-31T05:16:32.284906Z",
     "iopub.status.busy": "2024-08-31T05:16:32.284138Z",
     "iopub.status.idle": "2024-08-31T05:16:32.293453Z",
     "shell.execute_reply": "2024-08-31T05:16:32.292336Z",
     "shell.execute_reply.started": "2024-08-31T05:16:32.284863Z"
    }
   },
   "outputs": [
    {
     "name": "stdout",
     "output_type": "stream",
     "text": [
      "Prediction: NMIMS\n",
      "True Answer: NMIMS\n",
      "Token-level IoU: 1.0\n"
     ]
    }
   ],
   "source": [
    "print(\"Prediction:\", result['answer'])\n",
    "print(\"True Answer:\", true_answer)\n",
    "print(\"Token-level IoU:\", iou_score)"
   ]
  },
  {
   "cell_type": "code",
   "execution_count": null,
   "metadata": {},
   "outputs": [],
   "source": []
  }
 ],
 "metadata": {
  "kaggle": {
   "accelerator": "gpu",
   "dataSources": [
    {
     "datasetId": 374,
     "sourceId": 799923,
     "sourceType": "datasetVersion"
    }
   ],
   "dockerImageVersionId": 30761,
   "isGpuEnabled": true,
   "isInternetEnabled": true,
   "language": "python",
   "sourceType": "notebook"
  },
  "kernelspec": {
   "display_name": "Python 3 (ipykernel)",
   "language": "python",
   "name": "python3"
  },
  "language_info": {
   "codemirror_mode": {
    "name": "ipython",
    "version": 3
   },
   "file_extension": ".py",
   "mimetype": "text/x-python",
   "name": "python",
   "nbconvert_exporter": "python",
   "pygments_lexer": "ipython3",
   "version": "3.9.16"
  }
 },
 "nbformat": 4,
 "nbformat_minor": 4
}
