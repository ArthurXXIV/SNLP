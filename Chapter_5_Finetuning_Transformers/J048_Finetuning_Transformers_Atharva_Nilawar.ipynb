{
 "cells": [
  {
   "cell_type": "code",
   "execution_count": 23,
   "metadata": {
    "execution": {
     "iopub.execute_input": "2024-08-27T02:25:27.576581Z",
     "iopub.status.busy": "2024-08-27T02:25:27.575884Z",
     "iopub.status.idle": "2024-08-27T02:25:27.583811Z",
     "shell.execute_reply": "2024-08-27T02:25:27.582588Z",
     "shell.execute_reply.started": "2024-08-27T02:25:27.576517Z"
    }
   },
   "outputs": [],
   "source": [
    "import torch\n",
    "import transformers\n",
    "import pandas as pd\n",
    "import numpy as np\n",
    "\n",
    "from sklearn import model_selection, metrics\n",
    "import warnings\n",
    "warnings.filterwarnings(\"ignore\")"
   ]
  },
  {
   "cell_type": "code",
   "execution_count": 24,
   "metadata": {
    "execution": {
     "iopub.execute_input": "2024-08-27T02:25:27.587487Z",
     "iopub.status.busy": "2024-08-27T02:25:27.586824Z",
     "iopub.status.idle": "2024-08-27T02:25:28.253902Z",
     "shell.execute_reply": "2024-08-27T02:25:28.252613Z",
     "shell.execute_reply.started": "2024-08-27T02:25:27.587444Z"
    }
   },
   "outputs": [],
   "source": [
    "df = pd.read_csv(\"/kaggle/input/imdb-dataset-of-50k-movie-reviews/IMDB Dataset.csv\")"
   ]
  },
  {
   "cell_type": "code",
   "execution_count": 25,
   "metadata": {
    "execution": {
     "iopub.execute_input": "2024-08-27T02:25:28.256117Z",
     "iopub.status.busy": "2024-08-27T02:25:28.255421Z",
     "iopub.status.idle": "2024-08-27T02:25:28.268713Z",
     "shell.execute_reply": "2024-08-27T02:25:28.267623Z",
     "shell.execute_reply.started": "2024-08-27T02:25:28.256063Z"
    }
   },
   "outputs": [
    {
     "data": {
      "text/html": [
       "<div>\n",
       "<style scoped>\n",
       "    .dataframe tbody tr th:only-of-type {\n",
       "        vertical-align: middle;\n",
       "    }\n",
       "\n",
       "    .dataframe tbody tr th {\n",
       "        vertical-align: top;\n",
       "    }\n",
       "\n",
       "    .dataframe thead th {\n",
       "        text-align: right;\n",
       "    }\n",
       "</style>\n",
       "<table border=\"1\" class=\"dataframe\">\n",
       "  <thead>\n",
       "    <tr style=\"text-align: right;\">\n",
       "      <th></th>\n",
       "      <th>review</th>\n",
       "      <th>sentiment</th>\n",
       "    </tr>\n",
       "  </thead>\n",
       "  <tbody>\n",
       "    <tr>\n",
       "      <th>0</th>\n",
       "      <td>One of the other reviewers has mentioned that ...</td>\n",
       "      <td>positive</td>\n",
       "    </tr>\n",
       "    <tr>\n",
       "      <th>1</th>\n",
       "      <td>A wonderful little production. &lt;br /&gt;&lt;br /&gt;The...</td>\n",
       "      <td>positive</td>\n",
       "    </tr>\n",
       "    <tr>\n",
       "      <th>2</th>\n",
       "      <td>I thought this was a wonderful way to spend ti...</td>\n",
       "      <td>positive</td>\n",
       "    </tr>\n",
       "    <tr>\n",
       "      <th>3</th>\n",
       "      <td>Basically there's a family where a little boy ...</td>\n",
       "      <td>negative</td>\n",
       "    </tr>\n",
       "    <tr>\n",
       "      <th>4</th>\n",
       "      <td>Petter Mattei's \"Love in the Time of Money\" is...</td>\n",
       "      <td>positive</td>\n",
       "    </tr>\n",
       "  </tbody>\n",
       "</table>\n",
       "</div>"
      ],
      "text/plain": [
       "                                              review sentiment\n",
       "0  One of the other reviewers has mentioned that ...  positive\n",
       "1  A wonderful little production. <br /><br />The...  positive\n",
       "2  I thought this was a wonderful way to spend ti...  positive\n",
       "3  Basically there's a family where a little boy ...  negative\n",
       "4  Petter Mattei's \"Love in the Time of Money\" is...  positive"
      ]
     },
     "execution_count": 25,
     "metadata": {},
     "output_type": "execute_result"
    }
   ],
   "source": [
    "df.head()"
   ]
  },
  {
   "cell_type": "code",
   "execution_count": 26,
   "metadata": {
    "execution": {
     "iopub.execute_input": "2024-08-27T02:25:28.270397Z",
     "iopub.status.busy": "2024-08-27T02:25:28.270045Z",
     "iopub.status.idle": "2024-08-27T02:25:28.293867Z",
     "shell.execute_reply": "2024-08-27T02:25:28.292809Z",
     "shell.execute_reply.started": "2024-08-27T02:25:28.270365Z"
    }
   },
   "outputs": [
    {
     "name": "stdout",
     "output_type": "stream",
     "text": [
      "(50000, 3)\n"
     ]
    },
    {
     "data": {
      "text/html": [
       "<div>\n",
       "<style scoped>\n",
       "    .dataframe tbody tr th:only-of-type {\n",
       "        vertical-align: middle;\n",
       "    }\n",
       "\n",
       "    .dataframe tbody tr th {\n",
       "        vertical-align: top;\n",
       "    }\n",
       "\n",
       "    .dataframe thead th {\n",
       "        text-align: right;\n",
       "    }\n",
       "</style>\n",
       "<table border=\"1\" class=\"dataframe\">\n",
       "  <thead>\n",
       "    <tr style=\"text-align: right;\">\n",
       "      <th></th>\n",
       "      <th>review</th>\n",
       "      <th>sentiment</th>\n",
       "      <th>label</th>\n",
       "    </tr>\n",
       "  </thead>\n",
       "  <tbody>\n",
       "    <tr>\n",
       "      <th>0</th>\n",
       "      <td>One of the other reviewers has mentioned that ...</td>\n",
       "      <td>positive</td>\n",
       "      <td>1</td>\n",
       "    </tr>\n",
       "    <tr>\n",
       "      <th>1</th>\n",
       "      <td>A wonderful little production. &lt;br /&gt;&lt;br /&gt;The...</td>\n",
       "      <td>positive</td>\n",
       "      <td>1</td>\n",
       "    </tr>\n",
       "    <tr>\n",
       "      <th>2</th>\n",
       "      <td>I thought this was a wonderful way to spend ti...</td>\n",
       "      <td>positive</td>\n",
       "      <td>1</td>\n",
       "    </tr>\n",
       "    <tr>\n",
       "      <th>3</th>\n",
       "      <td>Basically there's a family where a little boy ...</td>\n",
       "      <td>negative</td>\n",
       "      <td>0</td>\n",
       "    </tr>\n",
       "    <tr>\n",
       "      <th>4</th>\n",
       "      <td>Petter Mattei's \"Love in the Time of Money\" is...</td>\n",
       "      <td>positive</td>\n",
       "      <td>1</td>\n",
       "    </tr>\n",
       "  </tbody>\n",
       "</table>\n",
       "</div>"
      ],
      "text/plain": [
       "                                              review sentiment  label\n",
       "0  One of the other reviewers has mentioned that ...  positive      1\n",
       "1  A wonderful little production. <br /><br />The...  positive      1\n",
       "2  I thought this was a wonderful way to spend ti...  positive      1\n",
       "3  Basically there's a family where a little boy ...  negative      0\n",
       "4  Petter Mattei's \"Love in the Time of Money\" is...  positive      1"
      ]
     },
     "execution_count": 26,
     "metadata": {},
     "output_type": "execute_result"
    }
   ],
   "source": [
    "id2label = {0: \"negative\", 1: \"positive\"}\n",
    "label2id = {label: id_ for id_, label in id2label.items()}\n",
    "\n",
    "df[\"label\"] = df[\"sentiment\"].map(label2id)\n",
    "\n",
    "print(df.shape)\n",
    "df.head()"
   ]
  },
  {
   "cell_type": "code",
   "execution_count": 27,
   "metadata": {
    "execution": {
     "iopub.execute_input": "2024-08-27T02:25:28.297967Z",
     "iopub.status.busy": "2024-08-27T02:25:28.297311Z",
     "iopub.status.idle": "2024-08-27T02:25:28.304382Z",
     "shell.execute_reply": "2024-08-27T02:25:28.303184Z",
     "shell.execute_reply.started": "2024-08-27T02:25:28.297924Z"
    }
   },
   "outputs": [],
   "source": [
    "config = {\n",
    "    \"max_length\": 360,\n",
    "    \"model_path\": \"microsoft/xtremedistil-l6-h256-uncased\",\n",
    "    \n",
    "    \"output_dir\": \"./my-model\",\n",
    "    \"train_batch_size\": 64,\n",
    "    \"valid_batch_size\": 64,\n",
    "    \"learning_rate\": 3e-5,\n",
    "    \"epochs\": 3,\n",
    "    \n",
    "    \"debug\": True,\n",
    "}"
   ]
  },
  {
   "cell_type": "code",
   "execution_count": 28,
   "metadata": {
    "execution": {
     "iopub.execute_input": "2024-08-27T02:25:28.306932Z",
     "iopub.status.busy": "2024-08-27T02:25:28.306186Z",
     "iopub.status.idle": "2024-08-27T02:25:28.760304Z",
     "shell.execute_reply": "2024-08-27T02:25:28.759219Z",
     "shell.execute_reply.started": "2024-08-27T02:25:28.306890Z"
    }
   },
   "outputs": [],
   "source": [
    "tokenizer = transformers.AutoTokenizer.from_pretrained(config[\"model_path\"])"
   ]
  },
  {
   "cell_type": "code",
   "execution_count": 29,
   "metadata": {
    "execution": {
     "iopub.execute_input": "2024-08-27T02:25:28.762577Z",
     "iopub.status.busy": "2024-08-27T02:25:28.762168Z",
     "iopub.status.idle": "2024-08-27T02:25:28.792582Z",
     "shell.execute_reply": "2024-08-27T02:25:28.791563Z",
     "shell.execute_reply.started": "2024-08-27T02:25:28.762516Z"
    }
   },
   "outputs": [],
   "source": [
    "train, valid = model_selection.train_test_split(\n",
    "    df,\n",
    "    test_size=0.2,\n",
    "    random_state=123,\n",
    "    shuffle=True,\n",
    "    stratify=df[\"label\"]\n",
    ")"
   ]
  },
  {
   "cell_type": "code",
   "execution_count": 30,
   "metadata": {
    "execution": {
     "iopub.execute_input": "2024-08-27T02:25:28.794901Z",
     "iopub.status.busy": "2024-08-27T02:25:28.793885Z",
     "iopub.status.idle": "2024-08-27T02:25:28.806467Z",
     "shell.execute_reply": "2024-08-27T02:25:28.805355Z",
     "shell.execute_reply.started": "2024-08-27T02:25:28.794848Z"
    }
   },
   "outputs": [],
   "source": [
    "class TextDataset:\n",
    "    \n",
    "    def __init__(self, data, tokenizer, config):\n",
    "        self.data = data\n",
    "        self.tokenizer = tokenizer\n",
    "        self.max_length = config[\"max_length\"]\n",
    "        \n",
    "    def __len__(self):\n",
    "        return self.data.shape[0]\n",
    "    \n",
    "    def __getitem__(self, idx):\n",
    "        row = self.data.iloc[idx]\n",
    "        \n",
    "        enc = self.tokenizer(\n",
    "            row[\"review\"],  \n",
    "            padding=\"max_length\",\n",
    "            truncation=True,\n",
    "            max_length=self.max_length,\n",
    "            return_tensors=\"pt\"\n",
    "        )\n",
    "        \n",
    "        return {\n",
    "            \"input_ids\": enc[\"input_ids\"].squeeze(0), \n",
    "            \"attention_mask\": enc[\"attention_mask\"].squeeze(0),\n",
    "            \"labels\": torch.tensor(row[\"label\"], dtype=torch.long) \n",
    "        }\n"
   ]
  },
  {
   "cell_type": "code",
   "execution_count": 31,
   "metadata": {
    "execution": {
     "iopub.execute_input": "2024-08-27T02:25:28.808050Z",
     "iopub.status.busy": "2024-08-27T02:25:28.807705Z",
     "iopub.status.idle": "2024-08-27T02:25:28.820256Z",
     "shell.execute_reply": "2024-08-27T02:25:28.819313Z",
     "shell.execute_reply.started": "2024-08-27T02:25:28.808006Z"
    }
   },
   "outputs": [],
   "source": [
    "train_ds = TextDataset(train,tokenizer,config)\n",
    "valid_ds = TextDataset(valid,tokenizer,config)"
   ]
  },
  {
   "cell_type": "code",
   "execution_count": 32,
   "metadata": {
    "execution": {
     "iopub.execute_input": "2024-08-27T02:25:28.822434Z",
     "iopub.status.busy": "2024-08-27T02:25:28.821530Z",
     "iopub.status.idle": "2024-08-27T02:25:28.841198Z",
     "shell.execute_reply": "2024-08-27T02:25:28.840298Z",
     "shell.execute_reply.started": "2024-08-27T02:25:28.822385Z"
    }
   },
   "outputs": [
    {
     "data": {
      "text/plain": [
       "{'input_ids': tensor([  101,  1045,  2387,  1996,  3185,  2044,  9361,  2049,  5790,  2006,\n",
       "         10047, 18939,  1012,  2067,  2059,  1010,  2009,  2001,  2012,  1022,\n",
       "          1012,  1014,  1998,  1045,  2245,  1010,  1000, 10166,   999,  2008,\n",
       "          2442,  2022,  1037,  2204,  2028,  1000,  1012,  1045,  2245,  3308,\n",
       "          1012,  1996,  2927,  1997,  1996,  3185,  2941,  7906,  2054,  1996,\n",
       "          5436, 10659,  1010,  2021,  2059,  2009,  3632, 27258,  2135,  2091,\n",
       "          7650,  2049,  8102,  1012,  1045,  2228,  2302,  1996,  2839,  1997,\n",
       "         14411, 23330,  1010,  2009,  2453,  2031,  2042, 10303,  1011,  2348,\n",
       "          2002,  2003,  1996,  3114,  1996,  2466,  2240,  3138,  1996,  2607,\n",
       "          2009,  2515,  1012,  1996,  2839,  2003,  2074,  2205,  6034,  2005,\n",
       "          2026, 16663,  1010,  1998,  2524,  2000, 18094,  1012,  2036,  1010,\n",
       "          1996,  4990,  1996,  2364,  2839,  3138,  2013,  1996,  2927,  1997,\n",
       "          1996,  2466,  6229,  2049,  1000, 14463,  1000,  2012,  1996,  2203,\n",
       "          2003,  6576, 22537,  1998,  2071,  4089,  2031,  2042, 16647,  1011,\n",
       "          1996,  4522,  2003,  1010,  1045,  2074,  2106,  2025,  3305,  1996,\n",
       "          3185,  1012,  1026,  7987,  1013,  1028,  1026,  7987,  1013,  1028,\n",
       "          2348,  1045,  2442,  6449,  2008,  2009,  2003,  1000,  3733,  3666,\n",
       "          1000,  1010,  1998,  1045,  2018,  2053,  3471,  3564,  2083,  1996,\n",
       "          2878,  3185,  1010,  2043,  2009,  2018,  2736,  1045,  2001,  5399,\n",
       "          4895,  5714, 19811,  2011,  1996,  4566,  1012,  2035,  1999,  2035,\n",
       "          1010,  2738, 19960,  3695, 16748,  1012,   102,     0,     0,     0,\n",
       "             0,     0,     0,     0,     0,     0,     0,     0,     0,     0,\n",
       "             0,     0,     0,     0,     0,     0,     0,     0,     0,     0,\n",
       "             0,     0,     0,     0,     0,     0,     0,     0,     0,     0,\n",
       "             0,     0,     0,     0,     0,     0,     0,     0,     0,     0,\n",
       "             0,     0,     0,     0,     0,     0,     0,     0,     0,     0,\n",
       "             0,     0,     0,     0,     0,     0,     0,     0,     0,     0,\n",
       "             0,     0,     0,     0,     0,     0,     0,     0,     0,     0,\n",
       "             0,     0,     0,     0,     0,     0,     0,     0,     0,     0,\n",
       "             0,     0,     0,     0,     0,     0,     0,     0,     0,     0,\n",
       "             0,     0,     0,     0,     0,     0,     0,     0,     0,     0,\n",
       "             0,     0,     0,     0,     0,     0,     0,     0,     0,     0,\n",
       "             0,     0,     0,     0,     0,     0,     0,     0,     0,     0,\n",
       "             0,     0,     0,     0,     0,     0,     0,     0,     0,     0,\n",
       "             0,     0,     0,     0,     0,     0,     0,     0,     0,     0,\n",
       "             0,     0,     0,     0,     0,     0,     0,     0,     0,     0]),\n",
       " 'attention_mask': tensor([1, 1, 1, 1, 1, 1, 1, 1, 1, 1, 1, 1, 1, 1, 1, 1, 1, 1, 1, 1, 1, 1, 1, 1,\n",
       "         1, 1, 1, 1, 1, 1, 1, 1, 1, 1, 1, 1, 1, 1, 1, 1, 1, 1, 1, 1, 1, 1, 1, 1,\n",
       "         1, 1, 1, 1, 1, 1, 1, 1, 1, 1, 1, 1, 1, 1, 1, 1, 1, 1, 1, 1, 1, 1, 1, 1,\n",
       "         1, 1, 1, 1, 1, 1, 1, 1, 1, 1, 1, 1, 1, 1, 1, 1, 1, 1, 1, 1, 1, 1, 1, 1,\n",
       "         1, 1, 1, 1, 1, 1, 1, 1, 1, 1, 1, 1, 1, 1, 1, 1, 1, 1, 1, 1, 1, 1, 1, 1,\n",
       "         1, 1, 1, 1, 1, 1, 1, 1, 1, 1, 1, 1, 1, 1, 1, 1, 1, 1, 1, 1, 1, 1, 1, 1,\n",
       "         1, 1, 1, 1, 1, 1, 1, 1, 1, 1, 1, 1, 1, 1, 1, 1, 1, 1, 1, 1, 1, 1, 1, 1,\n",
       "         1, 1, 1, 1, 1, 1, 1, 1, 1, 1, 1, 1, 1, 1, 1, 1, 1, 1, 1, 1, 1, 1, 1, 1,\n",
       "         1, 1, 1, 1, 1, 1, 1, 1, 1, 1, 1, 1, 1, 1, 1, 0, 0, 0, 0, 0, 0, 0, 0, 0,\n",
       "         0, 0, 0, 0, 0, 0, 0, 0, 0, 0, 0, 0, 0, 0, 0, 0, 0, 0, 0, 0, 0, 0, 0, 0,\n",
       "         0, 0, 0, 0, 0, 0, 0, 0, 0, 0, 0, 0, 0, 0, 0, 0, 0, 0, 0, 0, 0, 0, 0, 0,\n",
       "         0, 0, 0, 0, 0, 0, 0, 0, 0, 0, 0, 0, 0, 0, 0, 0, 0, 0, 0, 0, 0, 0, 0, 0,\n",
       "         0, 0, 0, 0, 0, 0, 0, 0, 0, 0, 0, 0, 0, 0, 0, 0, 0, 0, 0, 0, 0, 0, 0, 0,\n",
       "         0, 0, 0, 0, 0, 0, 0, 0, 0, 0, 0, 0, 0, 0, 0, 0, 0, 0, 0, 0, 0, 0, 0, 0,\n",
       "         0, 0, 0, 0, 0, 0, 0, 0, 0, 0, 0, 0, 0, 0, 0, 0, 0, 0, 0, 0, 0, 0, 0, 0]),\n",
       " 'labels': tensor(0)}"
      ]
     },
     "execution_count": 32,
     "metadata": {},
     "output_type": "execute_result"
    }
   ],
   "source": [
    "valid_ds[0]"
   ]
  },
  {
   "cell_type": "code",
   "execution_count": 33,
   "metadata": {
    "execution": {
     "iopub.execute_input": "2024-08-27T02:25:28.843215Z",
     "iopub.status.busy": "2024-08-27T02:25:28.842593Z",
     "iopub.status.idle": "2024-08-27T02:25:29.082441Z",
     "shell.execute_reply": "2024-08-27T02:25:29.081398Z",
     "shell.execute_reply.started": "2024-08-27T02:25:28.843168Z"
    }
   },
   "outputs": [
    {
     "name": "stderr",
     "output_type": "stream",
     "text": [
      "Some weights of BertForSequenceClassification were not initialized from the model checkpoint at microsoft/xtremedistil-l6-h256-uncased and are newly initialized: ['classifier.bias', 'classifier.weight']\n",
      "You should probably TRAIN this model on a down-stream task to be able to use it for predictions and inference.\n"
     ]
    }
   ],
   "source": [
    "model = transformers.AutoModelForSequenceClassification.from_pretrained(config['model_path'])"
   ]
  },
  {
   "cell_type": "code",
   "execution_count": 34,
   "metadata": {
    "execution": {
     "iopub.execute_input": "2024-08-27T02:25:29.084327Z",
     "iopub.status.busy": "2024-08-27T02:25:29.083922Z",
     "iopub.status.idle": "2024-08-27T02:25:29.091290Z",
     "shell.execute_reply": "2024-08-27T02:25:29.090053Z",
     "shell.execute_reply.started": "2024-08-27T02:25:29.084280Z"
    }
   },
   "outputs": [],
   "source": [
    "def compute_metrics(eval_data):\n",
    "    logits, labels = eval_data\n",
    "    \n",
    "    preds = np.argmax(logits, axis=-1)\n",
    "    \n",
    "    return {\n",
    "        \"f1\": metrics.f1_score(labels, preds, average=\"weighted\")\n",
    "    }"
   ]
  },
  {
   "cell_type": "code",
   "execution_count": 35,
   "metadata": {
    "execution": {
     "iopub.execute_input": "2024-08-27T02:25:29.092816Z",
     "iopub.status.busy": "2024-08-27T02:25:29.092469Z",
     "iopub.status.idle": "2024-08-27T02:25:29.128885Z",
     "shell.execute_reply": "2024-08-27T02:25:29.127925Z",
     "shell.execute_reply.started": "2024-08-27T02:25:29.092782Z"
    }
   },
   "outputs": [],
   "source": [
    "training_args = transformers.TrainingArguments(\n",
    "    output_dir=config[\"output_dir\"],\n",
    "    per_device_train_batch_size=config[\"train_batch_size\"],\n",
    "    per_device_eval_batch_size=config[\"valid_batch_size\"],\n",
    "    learning_rate=config[\"learning_rate\"],\n",
    "    num_train_epochs=config[\"epochs\"],\n",
    "    evaluation_strategy=\"epoch\",\n",
    "    save_strategy=\"epoch\",\n",
    "    logging_dir='./logs',\n",
    "    logging_steps=10,\n",
    "    load_best_model_at_end=True,\n",
    ")"
   ]
  },
  {
   "cell_type": "code",
   "execution_count": 36,
   "metadata": {
    "execution": {
     "iopub.execute_input": "2024-08-27T02:25:29.133195Z",
     "iopub.status.busy": "2024-08-27T02:25:29.132832Z",
     "iopub.status.idle": "2024-08-27T02:25:29.174297Z",
     "shell.execute_reply": "2024-08-27T02:25:29.173250Z",
     "shell.execute_reply.started": "2024-08-27T02:25:29.133152Z"
    }
   },
   "outputs": [],
   "source": [
    "trainer = transformers.Trainer(\n",
    "    model=model,  \n",
    "    args=training_args, \n",
    "    train_dataset=train_ds, \n",
    "    eval_dataset=valid_ds,  \n",
    "    tokenizer=tokenizer, \n",
    "    compute_metrics=compute_metrics,  \n",
    ")"
   ]
  },
  {
   "cell_type": "code",
   "execution_count": 37,
   "metadata": {
    "execution": {
     "iopub.execute_input": "2024-08-27T02:25:29.175720Z",
     "iopub.status.busy": "2024-08-27T02:25:29.175404Z",
     "iopub.status.idle": "2024-08-27T02:39:18.673143Z",
     "shell.execute_reply": "2024-08-27T02:39:18.672099Z",
     "shell.execute_reply.started": "2024-08-27T02:25:29.175688Z"
    }
   },
   "outputs": [
    {
     "data": {
      "text/html": [
       "\n",
       "    <div>\n",
       "      \n",
       "      <progress value='1875' max='1875' style='width:300px; height:20px; vertical-align: middle;'></progress>\n",
       "      [1875/1875 13:47, Epoch 3/3]\n",
       "    </div>\n",
       "    <table border=\"1\" class=\"dataframe\">\n",
       "  <thead>\n",
       " <tr style=\"text-align: left;\">\n",
       "      <th>Epoch</th>\n",
       "      <th>Training Loss</th>\n",
       "      <th>Validation Loss</th>\n",
       "      <th>F1</th>\n",
       "    </tr>\n",
       "  </thead>\n",
       "  <tbody>\n",
       "    <tr>\n",
       "      <td>1</td>\n",
       "      <td>0.251500</td>\n",
       "      <td>0.237794</td>\n",
       "      <td>0.906351</td>\n",
       "    </tr>\n",
       "    <tr>\n",
       "      <td>2</td>\n",
       "      <td>0.213100</td>\n",
       "      <td>0.222992</td>\n",
       "      <td>0.914897</td>\n",
       "    </tr>\n",
       "    <tr>\n",
       "      <td>3</td>\n",
       "      <td>0.173900</td>\n",
       "      <td>0.222023</td>\n",
       "      <td>0.918799</td>\n",
       "    </tr>\n",
       "  </tbody>\n",
       "</table><p>"
      ],
      "text/plain": [
       "<IPython.core.display.HTML object>"
      ]
     },
     "metadata": {},
     "output_type": "display_data"
    },
    {
     "data": {
      "text/plain": [
       "TrainOutput(global_step=1875, training_loss=0.25393606185913087, metrics={'train_runtime': 829.0986, 'train_samples_per_second': 144.736, 'train_steps_per_second': 2.261, 'total_flos': 1245553977600000.0, 'train_loss': 0.25393606185913087, 'epoch': 3.0})"
      ]
     },
     "execution_count": 37,
     "metadata": {},
     "output_type": "execute_result"
    }
   ],
   "source": [
    "trainer.train()"
   ]
  },
  {
   "cell_type": "code",
   "execution_count": 47,
   "metadata": {
    "execution": {
     "iopub.execute_input": "2024-08-27T02:45:43.941041Z",
     "iopub.status.busy": "2024-08-27T02:45:43.940633Z",
     "iopub.status.idle": "2024-08-27T02:45:43.956054Z",
     "shell.execute_reply": "2024-08-27T02:45:43.954886Z",
     "shell.execute_reply.started": "2024-08-27T02:45:43.941003Z"
    }
   },
   "outputs": [],
   "source": [
    "device = 0 if torch.cuda.is_available() else -1\n",
    "\n",
    "pipe = transformers.pipeline(\n",
    "    task='text-classification',\n",
    "    model = model,\n",
    "    tokenizer = tokenizer,\n",
    "    batch_size = 4,\n",
    "    device=device\n",
    ")"
   ]
  },
  {
   "cell_type": "code",
   "execution_count": 51,
   "metadata": {
    "execution": {
     "iopub.execute_input": "2024-08-27T02:47:01.068637Z",
     "iopub.status.busy": "2024-08-27T02:47:01.067984Z",
     "iopub.status.idle": "2024-08-27T02:47:01.084982Z",
     "shell.execute_reply": "2024-08-27T02:47:01.084046Z",
     "shell.execute_reply.started": "2024-08-27T02:47:01.068598Z"
    }
   },
   "outputs": [
    {
     "data": {
      "text/plain": [
       "[{'label': 'LABEL_1', 'score': 0.9889182448387146}]"
      ]
     },
     "execution_count": 51,
     "metadata": {},
     "output_type": "execute_result"
    }
   ],
   "source": [
    "pipe([\"The movie was nice\"])"
   ]
  },
  {
   "cell_type": "markdown",
   "metadata": {},
   "source": [
    "Separate implementation"
   ]
  },
  {
   "cell_type": "code",
   "execution_count": 52,
   "metadata": {
    "execution": {
     "iopub.execute_input": "2024-08-27T02:49:26.146328Z",
     "iopub.status.busy": "2024-08-27T02:49:26.145932Z",
     "iopub.status.idle": "2024-08-27T02:49:26.154641Z",
     "shell.execute_reply": "2024-08-27T02:49:26.153459Z",
     "shell.execute_reply.started": "2024-08-27T02:49:26.146289Z"
    }
   },
   "outputs": [],
   "source": [
    "class TextDataset:\n",
    "    \n",
    "    def __init__(self, data):\n",
    "        self.data = data\n",
    "        \n",
    "    def __len__(self):\n",
    "        return self.data.shape[0]\n",
    "    \n",
    "    def __getitem__(self, idx):\n",
    "        row = self.data.iloc[idx]\n",
    "        \n",
    "        enc = tokenizer(\n",
    "            row[\"text\"],\n",
    "            max_length=10,\n",
    "            truncation=True,\n",
    "            padding=\"max_length\"\n",
    "        )\n",
    "        \n",
    "        return {\n",
    "            \"input_ids\": torch.tensor(enc[\"input_ids\"]),\n",
    "            \"attention_mask\": torch.tensor(enc[\"attention_mask\"]),\n",
    "            # \"label\": torch.tensor(row[\"label\"]),\n",
    "        }"
   ]
  },
  {
   "cell_type": "code",
   "execution_count": 53,
   "metadata": {
    "execution": {
     "iopub.execute_input": "2024-08-27T02:49:36.922595Z",
     "iopub.status.busy": "2024-08-27T02:49:36.921854Z",
     "iopub.status.idle": "2024-08-27T02:49:37.569091Z",
     "shell.execute_reply": "2024-08-27T02:49:37.568162Z",
     "shell.execute_reply.started": "2024-08-27T02:49:36.922530Z"
    }
   },
   "outputs": [
    {
     "name": "stdout",
     "output_type": "stream",
     "text": [
      "(50000, 3)\n"
     ]
    },
    {
     "data": {
      "text/html": [
       "<div>\n",
       "<style scoped>\n",
       "    .dataframe tbody tr th:only-of-type {\n",
       "        vertical-align: middle;\n",
       "    }\n",
       "\n",
       "    .dataframe tbody tr th {\n",
       "        vertical-align: top;\n",
       "    }\n",
       "\n",
       "    .dataframe thead th {\n",
       "        text-align: right;\n",
       "    }\n",
       "</style>\n",
       "<table border=\"1\" class=\"dataframe\">\n",
       "  <thead>\n",
       "    <tr style=\"text-align: right;\">\n",
       "      <th></th>\n",
       "      <th>text</th>\n",
       "      <th>sentiment</th>\n",
       "      <th>label</th>\n",
       "    </tr>\n",
       "  </thead>\n",
       "  <tbody>\n",
       "    <tr>\n",
       "      <th>0</th>\n",
       "      <td>One of the other reviewers has mentioned that ...</td>\n",
       "      <td>positive</td>\n",
       "      <td>1</td>\n",
       "    </tr>\n",
       "    <tr>\n",
       "      <th>1</th>\n",
       "      <td>A wonderful little production. &lt;br /&gt;&lt;br /&gt;The...</td>\n",
       "      <td>positive</td>\n",
       "      <td>1</td>\n",
       "    </tr>\n",
       "    <tr>\n",
       "      <th>2</th>\n",
       "      <td>I thought this was a wonderful way to spend ti...</td>\n",
       "      <td>positive</td>\n",
       "      <td>1</td>\n",
       "    </tr>\n",
       "    <tr>\n",
       "      <th>3</th>\n",
       "      <td>Basically there's a family where a little boy ...</td>\n",
       "      <td>negative</td>\n",
       "      <td>0</td>\n",
       "    </tr>\n",
       "    <tr>\n",
       "      <th>4</th>\n",
       "      <td>Petter Mattei's \"Love in the Time of Money\" is...</td>\n",
       "      <td>positive</td>\n",
       "      <td>1</td>\n",
       "    </tr>\n",
       "  </tbody>\n",
       "</table>\n",
       "</div>"
      ],
      "text/plain": [
       "                                                text sentiment  label\n",
       "0  One of the other reviewers has mentioned that ...  positive      1\n",
       "1  A wonderful little production. <br /><br />The...  positive      1\n",
       "2  I thought this was a wonderful way to spend ti...  positive      1\n",
       "3  Basically there's a family where a little boy ...  negative      0\n",
       "4  Petter Mattei's \"Love in the Time of Money\" is...  positive      1"
      ]
     },
     "execution_count": 53,
     "metadata": {},
     "output_type": "execute_result"
    }
   ],
   "source": [
    "df = pd.read_csv(\"/kaggle/input/imdb-dataset-of-50k-movie-reviews/IMDB Dataset.csv\").rename(columns={\"review\": \"text\"})\n",
    "\n",
    "id2label = {0: \"negative\", 1: \"positive\"}\n",
    "label2id = {label: id_ for id_, label in id2label.items()}\n",
    "\n",
    "df[\"label\"] = df[\"sentiment\"].map(label2id)\n",
    "\n",
    "print(df.shape)\n",
    "df.head()"
   ]
  },
  {
   "cell_type": "code",
   "execution_count": 56,
   "metadata": {
    "execution": {
     "iopub.execute_input": "2024-08-27T02:55:43.640885Z",
     "iopub.status.busy": "2024-08-27T02:55:43.640249Z",
     "iopub.status.idle": "2024-08-27T02:55:43.704083Z",
     "shell.execute_reply": "2024-08-27T02:55:43.703055Z",
     "shell.execute_reply.started": "2024-08-27T02:55:43.640832Z"
    }
   },
   "outputs": [],
   "source": [
    "checkpoint_path = \"/kaggle/working/my-model/checkpoint-1875\"\n",
    "\n",
    "tokenizer = transformers.AutoTokenizer.from_pretrained(checkpoint_path)\n",
    "model = transformers.AutoModelForSequenceClassification.from_pretrained(checkpoint_path)"
   ]
  },
  {
   "cell_type": "code",
   "execution_count": 57,
   "metadata": {
    "execution": {
     "iopub.execute_input": "2024-08-27T02:56:05.342232Z",
     "iopub.status.busy": "2024-08-27T02:56:05.341823Z",
     "iopub.status.idle": "2024-08-27T02:56:05.348204Z",
     "shell.execute_reply": "2024-08-27T02:56:05.346995Z",
     "shell.execute_reply.started": "2024-08-27T02:56:05.342197Z"
    }
   },
   "outputs": [],
   "source": [
    "ds = TextDataset(df)"
   ]
  },
  {
   "cell_type": "code",
   "execution_count": 58,
   "metadata": {
    "execution": {
     "iopub.execute_input": "2024-08-27T02:56:17.539240Z",
     "iopub.status.busy": "2024-08-27T02:56:17.538309Z",
     "iopub.status.idle": "2024-08-27T02:56:17.546569Z",
     "shell.execute_reply": "2024-08-27T02:56:17.545417Z",
     "shell.execute_reply.started": "2024-08-27T02:56:17.539198Z"
    }
   },
   "outputs": [],
   "source": [
    "dl = torch.utils.data.DataLoader(\n",
    "    ds,\n",
    "    batch_size=2,\n",
    "    shuffle=False,\n",
    "    num_workers=2,\n",
    ")"
   ]
  },
  {
   "cell_type": "code",
   "execution_count": 59,
   "metadata": {
    "execution": {
     "iopub.execute_input": "2024-08-27T02:56:22.884450Z",
     "iopub.status.busy": "2024-08-27T02:56:22.884066Z",
     "iopub.status.idle": "2024-08-27T02:56:22.917423Z",
     "shell.execute_reply": "2024-08-27T02:56:22.916561Z",
     "shell.execute_reply.started": "2024-08-27T02:56:22.884413Z"
    }
   },
   "outputs": [
    {
     "data": {
      "text/plain": [
       "BertForSequenceClassification(\n",
       "  (bert): BertModel(\n",
       "    (embeddings): BertEmbeddings(\n",
       "      (word_embeddings): Embedding(30522, 256, padding_idx=0)\n",
       "      (position_embeddings): Embedding(512, 256)\n",
       "      (token_type_embeddings): Embedding(2, 256)\n",
       "      (LayerNorm): LayerNorm((256,), eps=1e-12, elementwise_affine=True)\n",
       "      (dropout): Dropout(p=0.1, inplace=False)\n",
       "    )\n",
       "    (encoder): BertEncoder(\n",
       "      (layer): ModuleList(\n",
       "        (0-5): 6 x BertLayer(\n",
       "          (attention): BertAttention(\n",
       "            (self): BertSdpaSelfAttention(\n",
       "              (query): Linear(in_features=256, out_features=256, bias=True)\n",
       "              (key): Linear(in_features=256, out_features=256, bias=True)\n",
       "              (value): Linear(in_features=256, out_features=256, bias=True)\n",
       "              (dropout): Dropout(p=0.1, inplace=False)\n",
       "            )\n",
       "            (output): BertSelfOutput(\n",
       "              (dense): Linear(in_features=256, out_features=256, bias=True)\n",
       "              (LayerNorm): LayerNorm((256,), eps=1e-12, elementwise_affine=True)\n",
       "              (dropout): Dropout(p=0.1, inplace=False)\n",
       "            )\n",
       "          )\n",
       "          (intermediate): BertIntermediate(\n",
       "            (dense): Linear(in_features=256, out_features=1024, bias=True)\n",
       "            (intermediate_act_fn): GELUActivation()\n",
       "          )\n",
       "          (output): BertOutput(\n",
       "            (dense): Linear(in_features=1024, out_features=256, bias=True)\n",
       "            (LayerNorm): LayerNorm((256,), eps=1e-12, elementwise_affine=True)\n",
       "            (dropout): Dropout(p=0.1, inplace=False)\n",
       "          )\n",
       "        )\n",
       "      )\n",
       "    )\n",
       "    (pooler): BertPooler(\n",
       "      (dense): Linear(in_features=256, out_features=256, bias=True)\n",
       "      (activation): Tanh()\n",
       "    )\n",
       "  )\n",
       "  (dropout): Dropout(p=0.1, inplace=False)\n",
       "  (classifier): Linear(in_features=256, out_features=2, bias=True)\n",
       ")"
      ]
     },
     "execution_count": 59,
     "metadata": {},
     "output_type": "execute_result"
    }
   ],
   "source": [
    "model.to(\"cuda\")"
   ]
  },
  {
   "cell_type": "code",
   "execution_count": 67,
   "metadata": {
    "execution": {
     "iopub.execute_input": "2024-08-27T02:58:53.092131Z",
     "iopub.status.busy": "2024-08-27T02:58:53.091734Z",
     "iopub.status.idle": "2024-08-27T02:58:53.290782Z",
     "shell.execute_reply": "2024-08-27T02:58:53.289364Z",
     "shell.execute_reply.started": "2024-08-27T02:58:53.092094Z"
    }
   },
   "outputs": [
    {
     "name": "stdout",
     "output_type": "stream",
     "text": [
      "{'input_ids': tensor([[  101,  2028,  1997,  1996,  2060, 15814,  2038,  3855,  2008,   102],\n",
      "        [  101,  1037,  6919,  2210,  2537,  1012,  1026,  7987,  1013,   102]]), 'attention_mask': tensor([[1, 1, 1, 1, 1, 1, 1, 1, 1, 1],\n",
      "        [1, 1, 1, 1, 1, 1, 1, 1, 1, 1]])}\n",
      "{'input_ids': tensor([[  101,  1045,  2245,  2023,  2001,  1037,  6919,  2126,  2000,   102],\n",
      "        [  101, 10468,  2045,  1005,  1055,  1037,  2155,  2073,  1037,   102]]), 'attention_mask': tensor([[1, 1, 1, 1, 1, 1, 1, 1, 1, 1],\n",
      "        [1, 1, 1, 1, 1, 1, 1, 1, 1, 1]])}\n",
      "{'input_ids': tensor([[ 101, 9004, 3334, 4717, 7416, 1005, 1055, 1000, 2293,  102],\n",
      "        [ 101, 2763, 2026, 2035, 1011, 2051, 5440, 3185, 1010,  102]]), 'attention_mask': tensor([[1, 1, 1, 1, 1, 1, 1, 1, 1, 1],\n",
      "        [1, 1, 1, 1, 1, 1, 1, 1, 1, 1]])}\n",
      "{'input_ids': tensor([[  101,  1045,  2469,  2052,  2066,  2000,  2156,  1037, 15218,   102],\n",
      "        [  101,  2023,  2265,  2001,  2019,  6429,  1010,  4840,  1004,   102]]), 'attention_mask': tensor([[1, 1, 1, 1, 1, 1, 1, 1, 1, 1],\n",
      "        [1, 1, 1, 1, 1, 1, 1, 1, 1, 1]])}\n",
      "{'input_ids': tensor([[  101,  6628,  2011,  1996,  3893,  7928,  2055,  2023,  2143,   102],\n",
      "        [  101,  2065,  2017,  2066,  2434,  9535, 16255,  8450,  7239,   102]]), 'attention_mask': tensor([[1, 1, 1, 1, 1, 1, 1, 1, 1, 1],\n",
      "        [1, 1, 1, 1, 1, 1, 1, 1, 1, 1]])}\n",
      "{'input_ids': tensor([[  101,  6316,  1996,  7344,  2003,  2028,  1997,  2216, 21864,   102],\n",
      "        [  101,  1045,  2387,  2023,  3185,  2043,  1045,  2001,  2055,   102]]), 'attention_mask': tensor([[1, 1, 1, 1, 1, 1, 1, 1, 1, 1],\n",
      "        [1, 1, 1, 1, 1, 1, 1, 1, 1, 1]])}\n"
     ]
    }
   ],
   "source": [
    "for idx, batch in enumerate(dl):\n",
    "    print(batch)\n",
    "    \n",
    "    # Corrected line: Use 'k' and 'v' as defined in the loop\n",
    "    batch = {k: v.to('cuda') for k, v in batch.items()}\n",
    "    \n",
    "    with torch.no_grad():\n",
    "        out = model(input_ids=batch[\"input_ids\"], attention_mask=batch[\"attention_mask\"])\n",
    "    \n",
    "    if idx == 5:\n",
    "        break\n"
   ]
  },
  {
   "cell_type": "code",
   "execution_count": 68,
   "metadata": {
    "execution": {
     "iopub.execute_input": "2024-08-27T02:59:06.910436Z",
     "iopub.status.busy": "2024-08-27T02:59:06.910009Z",
     "iopub.status.idle": "2024-08-27T02:59:06.924298Z",
     "shell.execute_reply": "2024-08-27T02:59:06.923216Z",
     "shell.execute_reply.started": "2024-08-27T02:59:06.910397Z"
    }
   },
   "outputs": [
    {
     "data": {
      "text/plain": [
       "{'input_ids': tensor([[  101,  6316,  1996,  7344,  2003,  2028,  1997,  2216, 21864,   102],\n",
       "         [  101,  1045,  2387,  2023,  3185,  2043,  1045,  2001,  2055,   102]],\n",
       "        device='cuda:0'),\n",
       " 'attention_mask': tensor([[1, 1, 1, 1, 1, 1, 1, 1, 1, 1],\n",
       "         [1, 1, 1, 1, 1, 1, 1, 1, 1, 1]], device='cuda:0')}"
      ]
     },
     "execution_count": 68,
     "metadata": {},
     "output_type": "execute_result"
    }
   ],
   "source": [
    "batch"
   ]
  },
  {
   "cell_type": "code",
   "execution_count": 69,
   "metadata": {
    "execution": {
     "iopub.execute_input": "2024-08-27T02:59:15.644750Z",
     "iopub.status.busy": "2024-08-27T02:59:15.644215Z",
     "iopub.status.idle": "2024-08-27T02:59:15.654867Z",
     "shell.execute_reply": "2024-08-27T02:59:15.654011Z",
     "shell.execute_reply.started": "2024-08-27T02:59:15.644703Z"
    }
   },
   "outputs": [
    {
     "data": {
      "text/plain": [
       "BertForSequenceClassification(\n",
       "  (bert): BertModel(\n",
       "    (embeddings): BertEmbeddings(\n",
       "      (word_embeddings): Embedding(30522, 256, padding_idx=0)\n",
       "      (position_embeddings): Embedding(512, 256)\n",
       "      (token_type_embeddings): Embedding(2, 256)\n",
       "      (LayerNorm): LayerNorm((256,), eps=1e-12, elementwise_affine=True)\n",
       "      (dropout): Dropout(p=0.1, inplace=False)\n",
       "    )\n",
       "    (encoder): BertEncoder(\n",
       "      (layer): ModuleList(\n",
       "        (0-5): 6 x BertLayer(\n",
       "          (attention): BertAttention(\n",
       "            (self): BertSdpaSelfAttention(\n",
       "              (query): Linear(in_features=256, out_features=256, bias=True)\n",
       "              (key): Linear(in_features=256, out_features=256, bias=True)\n",
       "              (value): Linear(in_features=256, out_features=256, bias=True)\n",
       "              (dropout): Dropout(p=0.1, inplace=False)\n",
       "            )\n",
       "            (output): BertSelfOutput(\n",
       "              (dense): Linear(in_features=256, out_features=256, bias=True)\n",
       "              (LayerNorm): LayerNorm((256,), eps=1e-12, elementwise_affine=True)\n",
       "              (dropout): Dropout(p=0.1, inplace=False)\n",
       "            )\n",
       "          )\n",
       "          (intermediate): BertIntermediate(\n",
       "            (dense): Linear(in_features=256, out_features=1024, bias=True)\n",
       "            (intermediate_act_fn): GELUActivation()\n",
       "          )\n",
       "          (output): BertOutput(\n",
       "            (dense): Linear(in_features=1024, out_features=256, bias=True)\n",
       "            (LayerNorm): LayerNorm((256,), eps=1e-12, elementwise_affine=True)\n",
       "            (dropout): Dropout(p=0.1, inplace=False)\n",
       "          )\n",
       "        )\n",
       "      )\n",
       "    )\n",
       "    (pooler): BertPooler(\n",
       "      (dense): Linear(in_features=256, out_features=256, bias=True)\n",
       "      (activation): Tanh()\n",
       "    )\n",
       "  )\n",
       "  (dropout): Dropout(p=0.1, inplace=False)\n",
       "  (classifier): Linear(in_features=256, out_features=2, bias=True)\n",
       ")"
      ]
     },
     "execution_count": 69,
     "metadata": {},
     "output_type": "execute_result"
    }
   ],
   "source": [
    "model.eval()\n",
    "\n"
   ]
  },
  {
   "cell_type": "code",
   "execution_count": 70,
   "metadata": {
    "execution": {
     "iopub.execute_input": "2024-08-27T02:59:23.777476Z",
     "iopub.status.busy": "2024-08-27T02:59:23.776601Z",
     "iopub.status.idle": "2024-08-27T02:59:23.904643Z",
     "shell.execute_reply": "2024-08-27T02:59:23.902979Z",
     "shell.execute_reply.started": "2024-08-27T02:59:23.777432Z"
    }
   },
   "outputs": [
    {
     "data": {
      "text/plain": [
       "SequenceClassifierOutput(loss=None, logits=tensor([[-0.9649,  0.8618],\n",
       "        [-1.7717,  1.6175]], device='cuda:0'), hidden_states=None, attentions=None)"
      ]
     },
     "execution_count": 70,
     "metadata": {},
     "output_type": "execute_result"
    }
   ],
   "source": [
    "out"
   ]
  },
  {
   "cell_type": "code",
   "execution_count": 71,
   "metadata": {
    "execution": {
     "iopub.execute_input": "2024-08-27T02:59:27.809744Z",
     "iopub.status.busy": "2024-08-27T02:59:27.809087Z",
     "iopub.status.idle": "2024-08-27T02:59:27.908196Z",
     "shell.execute_reply": "2024-08-27T02:59:27.907010Z",
     "shell.execute_reply.started": "2024-08-27T02:59:27.809701Z"
    }
   },
   "outputs": [],
   "source": [
    "pipe = transformers.pipeline(\n",
    "    \"text-classification\",\n",
    "    model=checkpoint_path,\n",
    "    batch_size=4,\n",
    "    device = 0\n",
    ")"
   ]
  },
  {
   "cell_type": "code",
   "execution_count": 72,
   "metadata": {
    "execution": {
     "iopub.execute_input": "2024-08-27T02:59:29.508646Z",
     "iopub.status.busy": "2024-08-27T02:59:29.508228Z",
     "iopub.status.idle": "2024-08-27T02:59:29.538314Z",
     "shell.execute_reply": "2024-08-27T02:59:29.537391Z",
     "shell.execute_reply.started": "2024-08-27T02:59:29.508605Z"
    }
   },
   "outputs": [
    {
     "data": {
      "text/plain": [
       "[{'label': 'LABEL_0', 'score': 0.9623117446899414},\n",
       " {'label': 'LABEL_0', 'score': 0.9623117446899414},\n",
       " {'label': 'LABEL_0', 'score': 0.9623117446899414},\n",
       " {'label': 'LABEL_0', 'score': 0.9623117446899414},\n",
       " {'label': 'LABEL_0', 'score': 0.9623117446899414},\n",
       " {'label': 'LABEL_0', 'score': 0.9623117446899414},\n",
       " {'label': 'LABEL_0', 'score': 0.9623117446899414},\n",
       " {'label': 'LABEL_0', 'score': 0.9623117446899414},\n",
       " {'label': 'LABEL_0', 'score': 0.9623117446899414},\n",
       " {'label': 'LABEL_0', 'score': 0.9623117446899414}]"
      ]
     },
     "execution_count": 72,
     "metadata": {},
     "output_type": "execute_result"
    }
   ],
   "source": [
    "pipe([\"I hated how good the movie was.\"] * 10)"
   ]
  },
  {
   "cell_type": "code",
   "execution_count": null,
   "metadata": {},
   "outputs": [],
   "source": []
  }
 ],
 "metadata": {
  "kaggle": {
   "accelerator": "gpu",
   "dataSources": [
    {
     "datasetId": 134715,
     "sourceId": 320111,
     "sourceType": "datasetVersion"
    }
   ],
   "dockerImageVersionId": 30762,
   "isGpuEnabled": true,
   "isInternetEnabled": true,
   "language": "python",
   "sourceType": "notebook"
  },
  "kernelspec": {
   "display_name": "Python 3 (ipykernel)",
   "language": "python",
   "name": "python3"
  },
  "language_info": {
   "codemirror_mode": {
    "name": "ipython",
    "version": 3
   },
   "file_extension": ".py",
   "mimetype": "text/x-python",
   "name": "python",
   "nbconvert_exporter": "python",
   "pygments_lexer": "ipython3",
   "version": "3.9.16"
  }
 },
 "nbformat": 4,
 "nbformat_minor": 4
}
